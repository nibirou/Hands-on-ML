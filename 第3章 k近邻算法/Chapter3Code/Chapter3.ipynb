{
 "cells": [
  {
   "cell_type": "markdown",
   "id": "896cb86b",
   "metadata": {},
   "source": [
    "# K近邻算法\n",
    "K近邻算法（k-nearest neighbor, KNN）是一种最简单的机器学习算法，也是一个最基本的分类和回归算法，不涉及庞大复杂的神经网络。\n",
    "同一种类的数据之间特征更为相似，而不同种类的数据之间特征差别更大。\n",
    "\n",
    "## 3.1 KNN算法的原理\n",
    "KNN会先观察与该样本点距离最近的K个样本，统计这些样本所属的类别。\n"
   ]
  }
 ],
 "metadata": {
  "language_info": {
   "name": "python"
  }
 },
 "nbformat": 4,
 "nbformat_minor": 5
}
